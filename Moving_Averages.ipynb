{
  "nbformat": 4,
  "nbformat_minor": 0,
  "metadata": {
    "colab": {
      "name": "Moving Averages",
      "provenance": [],
      "collapsed_sections": []
    },
    "kernelspec": {
      "name": "python3",
      "display_name": "Python 3"
    }
  },
  "cells": [
    {
      "cell_type": "code",
      "metadata": {
        "id": "dFF6lUcdonF1",
        "colab_type": "code",
        "colab": {
          "base_uri": "https://localhost:8080/",
          "height": 163
        },
        "outputId": "6232263d-17e0-4a9b-f6b0-2759a6066368"
      },
      "source": [
        "!pip install download"
      ],
      "execution_count": 130,
      "outputs": [
        {
          "output_type": "stream",
          "text": [
            "Requirement already satisfied: download in /usr/local/lib/python3.6/dist-packages (0.3.5)\n",
            "Requirement already satisfied: tqdm in /usr/local/lib/python3.6/dist-packages (from download) (4.41.1)\n",
            "Requirement already satisfied: requests in /usr/local/lib/python3.6/dist-packages (from download) (2.23.0)\n",
            "Requirement already satisfied: six in /usr/local/lib/python3.6/dist-packages (from download) (1.12.0)\n",
            "Requirement already satisfied: certifi>=2017.4.17 in /usr/local/lib/python3.6/dist-packages (from requests->download) (2020.6.20)\n",
            "Requirement already satisfied: idna<3,>=2.5 in /usr/local/lib/python3.6/dist-packages (from requests->download) (2.10)\n",
            "Requirement already satisfied: chardet<4,>=3.0.2 in /usr/local/lib/python3.6/dist-packages (from requests->download) (3.0.4)\n",
            "Requirement already satisfied: urllib3!=1.25.0,!=1.25.1,<1.26,>=1.21.1 in /usr/local/lib/python3.6/dist-packages (from requests->download) (1.24.3)\n"
          ],
          "name": "stdout"
        }
      ]
    },
    {
      "cell_type": "code",
      "metadata": {
        "id": "My5optEeorlV",
        "colab_type": "code",
        "colab": {}
      },
      "source": [
        "\n",
        "import seaborn as sns\n",
        "\n",
        "import matplotlib as mpl\n",
        "import matplotlib.pyplot as plt\n",
        "import numpy as np\n",
        "import os\n",
        "from datetime import datetime\n",
        "\n",
        "import pandas as pd\n",
        "\n",
        "from download import download\n",
        "\n",
        "mpl.rcParams[\"figure.figsize\"] = (8,6)\n",
        "mpl.rcParams[\"axes.grid\"] = False"
      ],
      "execution_count": 131,
      "outputs": []
    },
    {
      "cell_type": "code",
      "metadata": {
        "id": "9B_RcqFepP5s",
        "colab_type": "code",
        "colab": {}
      },
      "source": [
        "def parse(x):\n",
        "  return datetime.strptime(x,\"%m/%d/%Y\")"
      ],
      "execution_count": 132,
      "outputs": []
    },
    {
      "cell_type": "code",
      "metadata": {
        "id": "a1iCOrtppqJR",
        "colab_type": "code",
        "colab": {}
      },
      "source": [
        "df = pd.read_csv(\"https://raw.githubusercontent.com/srivatsan88/YouTubeLI/master/dataset/electricity_consumption.csv\",parse_dates = [\"Bill_Date\"],date_parser = parse)"
      ],
      "execution_count": 135,
      "outputs": []
    },
    {
      "cell_type": "code",
      "metadata": {
        "id": "-womnh3wTibO",
        "colab_type": "code",
        "colab": {
          "base_uri": "https://localhost:8080/",
          "height": 198
        },
        "outputId": "67fa26b1-79d7-4dee-f1f8-f35258b8e462"
      },
      "source": [
        "df.head()"
      ],
      "execution_count": 136,
      "outputs": [
        {
          "output_type": "execute_result",
          "data": {
            "text/html": [
              "<div>\n",
              "<style scoped>\n",
              "    .dataframe tbody tr th:only-of-type {\n",
              "        vertical-align: middle;\n",
              "    }\n",
              "\n",
              "    .dataframe tbody tr th {\n",
              "        vertical-align: top;\n",
              "    }\n",
              "\n",
              "    .dataframe thead th {\n",
              "        text-align: right;\n",
              "    }\n",
              "</style>\n",
              "<table border=\"1\" class=\"dataframe\">\n",
              "  <thead>\n",
              "    <tr style=\"text-align: right;\">\n",
              "      <th></th>\n",
              "      <th>Bill_Date</th>\n",
              "      <th>On_peak</th>\n",
              "      <th>Off_peak</th>\n",
              "      <th>Usage_charge</th>\n",
              "      <th>Billed_amount</th>\n",
              "      <th>Billing_days</th>\n",
              "    </tr>\n",
              "  </thead>\n",
              "  <tbody>\n",
              "    <tr>\n",
              "      <th>0</th>\n",
              "      <td>2016-01-01</td>\n",
              "      <td>365</td>\n",
              "      <td>1423.5</td>\n",
              "      <td>219.0</td>\n",
              "      <td>247.73</td>\n",
              "      <td>31</td>\n",
              "    </tr>\n",
              "    <tr>\n",
              "      <th>1</th>\n",
              "      <td>2016-02-01</td>\n",
              "      <td>292</td>\n",
              "      <td>1138.8</td>\n",
              "      <td>175.2</td>\n",
              "      <td>234.11</td>\n",
              "      <td>31</td>\n",
              "    </tr>\n",
              "    <tr>\n",
              "      <th>2</th>\n",
              "      <td>2016-03-01</td>\n",
              "      <td>130</td>\n",
              "      <td>507.0</td>\n",
              "      <td>78.0</td>\n",
              "      <td>123.85</td>\n",
              "      <td>29</td>\n",
              "    </tr>\n",
              "    <tr>\n",
              "      <th>3</th>\n",
              "      <td>2016-04-01</td>\n",
              "      <td>117</td>\n",
              "      <td>456.3</td>\n",
              "      <td>70.2</td>\n",
              "      <td>111.22</td>\n",
              "      <td>29</td>\n",
              "    </tr>\n",
              "    <tr>\n",
              "      <th>4</th>\n",
              "      <td>2016-05-01</td>\n",
              "      <td>136</td>\n",
              "      <td>530.4</td>\n",
              "      <td>81.6</td>\n",
              "      <td>118.37</td>\n",
              "      <td>29</td>\n",
              "    </tr>\n",
              "  </tbody>\n",
              "</table>\n",
              "</div>"
            ],
            "text/plain": [
              "   Bill_Date  On_peak  Off_peak  Usage_charge  Billed_amount  Billing_days\n",
              "0 2016-01-01      365    1423.5         219.0         247.73            31\n",
              "1 2016-02-01      292    1138.8         175.2         234.11            31\n",
              "2 2016-03-01      130     507.0          78.0         123.85            29\n",
              "3 2016-04-01      117     456.3          70.2         111.22            29\n",
              "4 2016-05-01      136     530.4          81.6         118.37            29"
            ]
          },
          "metadata": {
            "tags": []
          },
          "execution_count": 136
        }
      ]
    },
    {
      "cell_type": "code",
      "metadata": {
        "id": "bTY_KvMRTt8k",
        "colab_type": "code",
        "colab": {}
      },
      "source": [
        "bill_df = df.set_index(\"Bill_Date\")"
      ],
      "execution_count": 137,
      "outputs": []
    },
    {
      "cell_type": "code",
      "metadata": {
        "id": "I-ypqEWdUDRD",
        "colab_type": "code",
        "colab": {
          "base_uri": "https://localhost:8080/",
          "height": 228
        },
        "outputId": "1ccbd217-94a5-44fe-8321-3e9a0be6b688"
      },
      "source": [
        "bill_df.head()"
      ],
      "execution_count": 138,
      "outputs": [
        {
          "output_type": "execute_result",
          "data": {
            "text/html": [
              "<div>\n",
              "<style scoped>\n",
              "    .dataframe tbody tr th:only-of-type {\n",
              "        vertical-align: middle;\n",
              "    }\n",
              "\n",
              "    .dataframe tbody tr th {\n",
              "        vertical-align: top;\n",
              "    }\n",
              "\n",
              "    .dataframe thead th {\n",
              "        text-align: right;\n",
              "    }\n",
              "</style>\n",
              "<table border=\"1\" class=\"dataframe\">\n",
              "  <thead>\n",
              "    <tr style=\"text-align: right;\">\n",
              "      <th></th>\n",
              "      <th>On_peak</th>\n",
              "      <th>Off_peak</th>\n",
              "      <th>Usage_charge</th>\n",
              "      <th>Billed_amount</th>\n",
              "      <th>Billing_days</th>\n",
              "    </tr>\n",
              "    <tr>\n",
              "      <th>Bill_Date</th>\n",
              "      <th></th>\n",
              "      <th></th>\n",
              "      <th></th>\n",
              "      <th></th>\n",
              "      <th></th>\n",
              "    </tr>\n",
              "  </thead>\n",
              "  <tbody>\n",
              "    <tr>\n",
              "      <th>2016-01-01</th>\n",
              "      <td>365</td>\n",
              "      <td>1423.5</td>\n",
              "      <td>219.0</td>\n",
              "      <td>247.73</td>\n",
              "      <td>31</td>\n",
              "    </tr>\n",
              "    <tr>\n",
              "      <th>2016-02-01</th>\n",
              "      <td>292</td>\n",
              "      <td>1138.8</td>\n",
              "      <td>175.2</td>\n",
              "      <td>234.11</td>\n",
              "      <td>31</td>\n",
              "    </tr>\n",
              "    <tr>\n",
              "      <th>2016-03-01</th>\n",
              "      <td>130</td>\n",
              "      <td>507.0</td>\n",
              "      <td>78.0</td>\n",
              "      <td>123.85</td>\n",
              "      <td>29</td>\n",
              "    </tr>\n",
              "    <tr>\n",
              "      <th>2016-04-01</th>\n",
              "      <td>117</td>\n",
              "      <td>456.3</td>\n",
              "      <td>70.2</td>\n",
              "      <td>111.22</td>\n",
              "      <td>29</td>\n",
              "    </tr>\n",
              "    <tr>\n",
              "      <th>2016-05-01</th>\n",
              "      <td>136</td>\n",
              "      <td>530.4</td>\n",
              "      <td>81.6</td>\n",
              "      <td>118.37</td>\n",
              "      <td>29</td>\n",
              "    </tr>\n",
              "  </tbody>\n",
              "</table>\n",
              "</div>"
            ],
            "text/plain": [
              "            On_peak  Off_peak  Usage_charge  Billed_amount  Billing_days\n",
              "Bill_Date                                                               \n",
              "2016-01-01      365    1423.5         219.0         247.73            31\n",
              "2016-02-01      292    1138.8         175.2         234.11            31\n",
              "2016-03-01      130     507.0          78.0         123.85            29\n",
              "2016-04-01      117     456.3          70.2         111.22            29\n",
              "2016-05-01      136     530.4          81.6         118.37            29"
            ]
          },
          "metadata": {
            "tags": []
          },
          "execution_count": 138
        }
      ]
    },
    {
      "cell_type": "code",
      "metadata": {
        "id": "1U1Gj4ItUEh9",
        "colab_type": "code",
        "colab": {}
      },
      "source": [
        "bill_2018 = bill_df[\"2016\":\"2018\"][[\"Billed_amount\"]]"
      ],
      "execution_count": 139,
      "outputs": []
    },
    {
      "cell_type": "code",
      "metadata": {
        "id": "bl9lxJoyURgq",
        "colab_type": "code",
        "colab": {
          "base_uri": "https://localhost:8080/",
          "height": 1000
        },
        "outputId": "cf3434c4-23aa-4d60-ef76-091de5c4cb0d"
      },
      "source": [
        "bill_2018"
      ],
      "execution_count": 140,
      "outputs": [
        {
          "output_type": "execute_result",
          "data": {
            "text/html": [
              "<div>\n",
              "<style scoped>\n",
              "    .dataframe tbody tr th:only-of-type {\n",
              "        vertical-align: middle;\n",
              "    }\n",
              "\n",
              "    .dataframe tbody tr th {\n",
              "        vertical-align: top;\n",
              "    }\n",
              "\n",
              "    .dataframe thead th {\n",
              "        text-align: right;\n",
              "    }\n",
              "</style>\n",
              "<table border=\"1\" class=\"dataframe\">\n",
              "  <thead>\n",
              "    <tr style=\"text-align: right;\">\n",
              "      <th></th>\n",
              "      <th>Billed_amount</th>\n",
              "    </tr>\n",
              "    <tr>\n",
              "      <th>Bill_Date</th>\n",
              "      <th></th>\n",
              "    </tr>\n",
              "  </thead>\n",
              "  <tbody>\n",
              "    <tr>\n",
              "      <th>2016-01-01</th>\n",
              "      <td>247.73</td>\n",
              "    </tr>\n",
              "    <tr>\n",
              "      <th>2016-02-01</th>\n",
              "      <td>234.11</td>\n",
              "    </tr>\n",
              "    <tr>\n",
              "      <th>2016-03-01</th>\n",
              "      <td>123.85</td>\n",
              "    </tr>\n",
              "    <tr>\n",
              "      <th>2016-04-01</th>\n",
              "      <td>111.22</td>\n",
              "    </tr>\n",
              "    <tr>\n",
              "      <th>2016-05-01</th>\n",
              "      <td>118.37</td>\n",
              "    </tr>\n",
              "    <tr>\n",
              "      <th>2016-06-01</th>\n",
              "      <td>77.81</td>\n",
              "    </tr>\n",
              "    <tr>\n",
              "      <th>2016-07-01</th>\n",
              "      <td>86.67</td>\n",
              "    </tr>\n",
              "    <tr>\n",
              "      <th>2016-08-01</th>\n",
              "      <td>122.40</td>\n",
              "    </tr>\n",
              "    <tr>\n",
              "      <th>2016-09-01</th>\n",
              "      <td>223.62</td>\n",
              "    </tr>\n",
              "    <tr>\n",
              "      <th>2016-10-01</th>\n",
              "      <td>152.54</td>\n",
              "    </tr>\n",
              "    <tr>\n",
              "      <th>2016-11-01</th>\n",
              "      <td>150.54</td>\n",
              "    </tr>\n",
              "    <tr>\n",
              "      <th>2016-12-01</th>\n",
              "      <td>244.37</td>\n",
              "    </tr>\n",
              "    <tr>\n",
              "      <th>2017-01-01</th>\n",
              "      <td>263.64</td>\n",
              "    </tr>\n",
              "    <tr>\n",
              "      <th>2017-02-01</th>\n",
              "      <td>214.32</td>\n",
              "    </tr>\n",
              "    <tr>\n",
              "      <th>2017-03-01</th>\n",
              "      <td>151.54</td>\n",
              "    </tr>\n",
              "    <tr>\n",
              "      <th>2017-04-01</th>\n",
              "      <td>118.79</td>\n",
              "    </tr>\n",
              "    <tr>\n",
              "      <th>2017-05-01</th>\n",
              "      <td>153.18</td>\n",
              "    </tr>\n",
              "    <tr>\n",
              "      <th>2017-06-01</th>\n",
              "      <td>212.08</td>\n",
              "    </tr>\n",
              "    <tr>\n",
              "      <th>2017-07-01</th>\n",
              "      <td>281.19</td>\n",
              "    </tr>\n",
              "    <tr>\n",
              "      <th>2017-08-01</th>\n",
              "      <td>237.97</td>\n",
              "    </tr>\n",
              "    <tr>\n",
              "      <th>2017-09-01</th>\n",
              "      <td>284.30</td>\n",
              "    </tr>\n",
              "    <tr>\n",
              "      <th>2017-10-01</th>\n",
              "      <td>172.69</td>\n",
              "    </tr>\n",
              "    <tr>\n",
              "      <th>2017-11-01</th>\n",
              "      <td>111.51</td>\n",
              "    </tr>\n",
              "    <tr>\n",
              "      <th>2017-12-01</th>\n",
              "      <td>151.42</td>\n",
              "    </tr>\n",
              "    <tr>\n",
              "      <th>2018-01-01</th>\n",
              "      <td>267.32</td>\n",
              "    </tr>\n",
              "    <tr>\n",
              "      <th>2018-02-01</th>\n",
              "      <td>201.35</td>\n",
              "    </tr>\n",
              "    <tr>\n",
              "      <th>2018-03-01</th>\n",
              "      <td>202.91</td>\n",
              "    </tr>\n",
              "    <tr>\n",
              "      <th>2018-04-01</th>\n",
              "      <td>150.86</td>\n",
              "    </tr>\n",
              "    <tr>\n",
              "      <th>2018-05-01</th>\n",
              "      <td>163.07</td>\n",
              "    </tr>\n",
              "    <tr>\n",
              "      <th>2018-06-01</th>\n",
              "      <td>219.76</td>\n",
              "    </tr>\n",
              "    <tr>\n",
              "      <th>2018-07-01</th>\n",
              "      <td>283.98</td>\n",
              "    </tr>\n",
              "    <tr>\n",
              "      <th>2018-08-01</th>\n",
              "      <td>290.15</td>\n",
              "    </tr>\n",
              "    <tr>\n",
              "      <th>2018-09-01</th>\n",
              "      <td>257.96</td>\n",
              "    </tr>\n",
              "    <tr>\n",
              "      <th>2018-10-01</th>\n",
              "      <td>327.19</td>\n",
              "    </tr>\n",
              "    <tr>\n",
              "      <th>2018-11-01</th>\n",
              "      <td>193.49</td>\n",
              "    </tr>\n",
              "    <tr>\n",
              "      <th>2018-12-01</th>\n",
              "      <td>152.34</td>\n",
              "    </tr>\n",
              "  </tbody>\n",
              "</table>\n",
              "</div>"
            ],
            "text/plain": [
              "            Billed_amount\n",
              "Bill_Date                \n",
              "2016-01-01         247.73\n",
              "2016-02-01         234.11\n",
              "2016-03-01         123.85\n",
              "2016-04-01         111.22\n",
              "2016-05-01         118.37\n",
              "2016-06-01          77.81\n",
              "2016-07-01          86.67\n",
              "2016-08-01         122.40\n",
              "2016-09-01         223.62\n",
              "2016-10-01         152.54\n",
              "2016-11-01         150.54\n",
              "2016-12-01         244.37\n",
              "2017-01-01         263.64\n",
              "2017-02-01         214.32\n",
              "2017-03-01         151.54\n",
              "2017-04-01         118.79\n",
              "2017-05-01         153.18\n",
              "2017-06-01         212.08\n",
              "2017-07-01         281.19\n",
              "2017-08-01         237.97\n",
              "2017-09-01         284.30\n",
              "2017-10-01         172.69\n",
              "2017-11-01         111.51\n",
              "2017-12-01         151.42\n",
              "2018-01-01         267.32\n",
              "2018-02-01         201.35\n",
              "2018-03-01         202.91\n",
              "2018-04-01         150.86\n",
              "2018-05-01         163.07\n",
              "2018-06-01         219.76\n",
              "2018-07-01         283.98\n",
              "2018-08-01         290.15\n",
              "2018-09-01         257.96\n",
              "2018-10-01         327.19\n",
              "2018-11-01         193.49\n",
              "2018-12-01         152.34"
            ]
          },
          "metadata": {
            "tags": []
          },
          "execution_count": 140
        }
      ]
    },
    {
      "cell_type": "code",
      "metadata": {
        "id": "ZmXWOIXWUTKM",
        "colab_type": "code",
        "colab": {
          "base_uri": "https://localhost:8080/",
          "height": 708
        },
        "outputId": "b120afe5-6356-4666-b653-c7b89d328eb3"
      },
      "source": [
        "bill_2018[\"Billed_amount\"].rolling(window=3).mean()"
      ],
      "execution_count": 141,
      "outputs": [
        {
          "output_type": "execute_result",
          "data": {
            "text/plain": [
              "Bill_Date\n",
              "2016-01-01           NaN\n",
              "2016-02-01           NaN\n",
              "2016-03-01    201.896667\n",
              "2016-04-01    156.393333\n",
              "2016-05-01    117.813333\n",
              "2016-06-01    102.466667\n",
              "2016-07-01     94.283333\n",
              "2016-08-01     95.626667\n",
              "2016-09-01    144.230000\n",
              "2016-10-01    166.186667\n",
              "2016-11-01    175.566667\n",
              "2016-12-01    182.483333\n",
              "2017-01-01    219.516667\n",
              "2017-02-01    240.776667\n",
              "2017-03-01    209.833333\n",
              "2017-04-01    161.550000\n",
              "2017-05-01    141.170000\n",
              "2017-06-01    161.350000\n",
              "2017-07-01    215.483333\n",
              "2017-08-01    243.746667\n",
              "2017-09-01    267.820000\n",
              "2017-10-01    231.653333\n",
              "2017-11-01    189.500000\n",
              "2017-12-01    145.206667\n",
              "2018-01-01    176.750000\n",
              "2018-02-01    206.696667\n",
              "2018-03-01    223.860000\n",
              "2018-04-01    185.040000\n",
              "2018-05-01    172.280000\n",
              "2018-06-01    177.896667\n",
              "2018-07-01    222.270000\n",
              "2018-08-01    264.630000\n",
              "2018-09-01    277.363333\n",
              "2018-10-01    291.766667\n",
              "2018-11-01    259.546667\n",
              "2018-12-01    224.340000\n",
              "Name: Billed_amount, dtype: float64"
            ]
          },
          "metadata": {
            "tags": []
          },
          "execution_count": 141
        }
      ]
    },
    {
      "cell_type": "code",
      "metadata": {
        "id": "26eLLOU_UsYT",
        "colab_type": "code",
        "colab": {}
      },
      "source": [
        "bill_2018[\"ma_rolling_3\"] =bill_2018[\"Billed_amount\"].rolling(window=3).mean().shift(1)"
      ],
      "execution_count": 142,
      "outputs": []
    },
    {
      "cell_type": "code",
      "metadata": {
        "id": "8_QaQFSbU2A6",
        "colab_type": "code",
        "colab": {
          "base_uri": "https://localhost:8080/",
          "height": 1000
        },
        "outputId": "f6a718fd-4cd6-4162-ae4c-a44d12cfdec8"
      },
      "source": [
        "bill_2018"
      ],
      "execution_count": 143,
      "outputs": [
        {
          "output_type": "execute_result",
          "data": {
            "text/html": [
              "<div>\n",
              "<style scoped>\n",
              "    .dataframe tbody tr th:only-of-type {\n",
              "        vertical-align: middle;\n",
              "    }\n",
              "\n",
              "    .dataframe tbody tr th {\n",
              "        vertical-align: top;\n",
              "    }\n",
              "\n",
              "    .dataframe thead th {\n",
              "        text-align: right;\n",
              "    }\n",
              "</style>\n",
              "<table border=\"1\" class=\"dataframe\">\n",
              "  <thead>\n",
              "    <tr style=\"text-align: right;\">\n",
              "      <th></th>\n",
              "      <th>Billed_amount</th>\n",
              "      <th>ma_rolling_3</th>\n",
              "    </tr>\n",
              "    <tr>\n",
              "      <th>Bill_Date</th>\n",
              "      <th></th>\n",
              "      <th></th>\n",
              "    </tr>\n",
              "  </thead>\n",
              "  <tbody>\n",
              "    <tr>\n",
              "      <th>2016-01-01</th>\n",
              "      <td>247.73</td>\n",
              "      <td>NaN</td>\n",
              "    </tr>\n",
              "    <tr>\n",
              "      <th>2016-02-01</th>\n",
              "      <td>234.11</td>\n",
              "      <td>NaN</td>\n",
              "    </tr>\n",
              "    <tr>\n",
              "      <th>2016-03-01</th>\n",
              "      <td>123.85</td>\n",
              "      <td>NaN</td>\n",
              "    </tr>\n",
              "    <tr>\n",
              "      <th>2016-04-01</th>\n",
              "      <td>111.22</td>\n",
              "      <td>201.896667</td>\n",
              "    </tr>\n",
              "    <tr>\n",
              "      <th>2016-05-01</th>\n",
              "      <td>118.37</td>\n",
              "      <td>156.393333</td>\n",
              "    </tr>\n",
              "    <tr>\n",
              "      <th>2016-06-01</th>\n",
              "      <td>77.81</td>\n",
              "      <td>117.813333</td>\n",
              "    </tr>\n",
              "    <tr>\n",
              "      <th>2016-07-01</th>\n",
              "      <td>86.67</td>\n",
              "      <td>102.466667</td>\n",
              "    </tr>\n",
              "    <tr>\n",
              "      <th>2016-08-01</th>\n",
              "      <td>122.40</td>\n",
              "      <td>94.283333</td>\n",
              "    </tr>\n",
              "    <tr>\n",
              "      <th>2016-09-01</th>\n",
              "      <td>223.62</td>\n",
              "      <td>95.626667</td>\n",
              "    </tr>\n",
              "    <tr>\n",
              "      <th>2016-10-01</th>\n",
              "      <td>152.54</td>\n",
              "      <td>144.230000</td>\n",
              "    </tr>\n",
              "    <tr>\n",
              "      <th>2016-11-01</th>\n",
              "      <td>150.54</td>\n",
              "      <td>166.186667</td>\n",
              "    </tr>\n",
              "    <tr>\n",
              "      <th>2016-12-01</th>\n",
              "      <td>244.37</td>\n",
              "      <td>175.566667</td>\n",
              "    </tr>\n",
              "    <tr>\n",
              "      <th>2017-01-01</th>\n",
              "      <td>263.64</td>\n",
              "      <td>182.483333</td>\n",
              "    </tr>\n",
              "    <tr>\n",
              "      <th>2017-02-01</th>\n",
              "      <td>214.32</td>\n",
              "      <td>219.516667</td>\n",
              "    </tr>\n",
              "    <tr>\n",
              "      <th>2017-03-01</th>\n",
              "      <td>151.54</td>\n",
              "      <td>240.776667</td>\n",
              "    </tr>\n",
              "    <tr>\n",
              "      <th>2017-04-01</th>\n",
              "      <td>118.79</td>\n",
              "      <td>209.833333</td>\n",
              "    </tr>\n",
              "    <tr>\n",
              "      <th>2017-05-01</th>\n",
              "      <td>153.18</td>\n",
              "      <td>161.550000</td>\n",
              "    </tr>\n",
              "    <tr>\n",
              "      <th>2017-06-01</th>\n",
              "      <td>212.08</td>\n",
              "      <td>141.170000</td>\n",
              "    </tr>\n",
              "    <tr>\n",
              "      <th>2017-07-01</th>\n",
              "      <td>281.19</td>\n",
              "      <td>161.350000</td>\n",
              "    </tr>\n",
              "    <tr>\n",
              "      <th>2017-08-01</th>\n",
              "      <td>237.97</td>\n",
              "      <td>215.483333</td>\n",
              "    </tr>\n",
              "    <tr>\n",
              "      <th>2017-09-01</th>\n",
              "      <td>284.30</td>\n",
              "      <td>243.746667</td>\n",
              "    </tr>\n",
              "    <tr>\n",
              "      <th>2017-10-01</th>\n",
              "      <td>172.69</td>\n",
              "      <td>267.820000</td>\n",
              "    </tr>\n",
              "    <tr>\n",
              "      <th>2017-11-01</th>\n",
              "      <td>111.51</td>\n",
              "      <td>231.653333</td>\n",
              "    </tr>\n",
              "    <tr>\n",
              "      <th>2017-12-01</th>\n",
              "      <td>151.42</td>\n",
              "      <td>189.500000</td>\n",
              "    </tr>\n",
              "    <tr>\n",
              "      <th>2018-01-01</th>\n",
              "      <td>267.32</td>\n",
              "      <td>145.206667</td>\n",
              "    </tr>\n",
              "    <tr>\n",
              "      <th>2018-02-01</th>\n",
              "      <td>201.35</td>\n",
              "      <td>176.750000</td>\n",
              "    </tr>\n",
              "    <tr>\n",
              "      <th>2018-03-01</th>\n",
              "      <td>202.91</td>\n",
              "      <td>206.696667</td>\n",
              "    </tr>\n",
              "    <tr>\n",
              "      <th>2018-04-01</th>\n",
              "      <td>150.86</td>\n",
              "      <td>223.860000</td>\n",
              "    </tr>\n",
              "    <tr>\n",
              "      <th>2018-05-01</th>\n",
              "      <td>163.07</td>\n",
              "      <td>185.040000</td>\n",
              "    </tr>\n",
              "    <tr>\n",
              "      <th>2018-06-01</th>\n",
              "      <td>219.76</td>\n",
              "      <td>172.280000</td>\n",
              "    </tr>\n",
              "    <tr>\n",
              "      <th>2018-07-01</th>\n",
              "      <td>283.98</td>\n",
              "      <td>177.896667</td>\n",
              "    </tr>\n",
              "    <tr>\n",
              "      <th>2018-08-01</th>\n",
              "      <td>290.15</td>\n",
              "      <td>222.270000</td>\n",
              "    </tr>\n",
              "    <tr>\n",
              "      <th>2018-09-01</th>\n",
              "      <td>257.96</td>\n",
              "      <td>264.630000</td>\n",
              "    </tr>\n",
              "    <tr>\n",
              "      <th>2018-10-01</th>\n",
              "      <td>327.19</td>\n",
              "      <td>277.363333</td>\n",
              "    </tr>\n",
              "    <tr>\n",
              "      <th>2018-11-01</th>\n",
              "      <td>193.49</td>\n",
              "      <td>291.766667</td>\n",
              "    </tr>\n",
              "    <tr>\n",
              "      <th>2018-12-01</th>\n",
              "      <td>152.34</td>\n",
              "      <td>259.546667</td>\n",
              "    </tr>\n",
              "  </tbody>\n",
              "</table>\n",
              "</div>"
            ],
            "text/plain": [
              "            Billed_amount  ma_rolling_3\n",
              "Bill_Date                              \n",
              "2016-01-01         247.73           NaN\n",
              "2016-02-01         234.11           NaN\n",
              "2016-03-01         123.85           NaN\n",
              "2016-04-01         111.22    201.896667\n",
              "2016-05-01         118.37    156.393333\n",
              "2016-06-01          77.81    117.813333\n",
              "2016-07-01          86.67    102.466667\n",
              "2016-08-01         122.40     94.283333\n",
              "2016-09-01         223.62     95.626667\n",
              "2016-10-01         152.54    144.230000\n",
              "2016-11-01         150.54    166.186667\n",
              "2016-12-01         244.37    175.566667\n",
              "2017-01-01         263.64    182.483333\n",
              "2017-02-01         214.32    219.516667\n",
              "2017-03-01         151.54    240.776667\n",
              "2017-04-01         118.79    209.833333\n",
              "2017-05-01         153.18    161.550000\n",
              "2017-06-01         212.08    141.170000\n",
              "2017-07-01         281.19    161.350000\n",
              "2017-08-01         237.97    215.483333\n",
              "2017-09-01         284.30    243.746667\n",
              "2017-10-01         172.69    267.820000\n",
              "2017-11-01         111.51    231.653333\n",
              "2017-12-01         151.42    189.500000\n",
              "2018-01-01         267.32    145.206667\n",
              "2018-02-01         201.35    176.750000\n",
              "2018-03-01         202.91    206.696667\n",
              "2018-04-01         150.86    223.860000\n",
              "2018-05-01         163.07    185.040000\n",
              "2018-06-01         219.76    172.280000\n",
              "2018-07-01         283.98    177.896667\n",
              "2018-08-01         290.15    222.270000\n",
              "2018-09-01         257.96    264.630000\n",
              "2018-10-01         327.19    277.363333\n",
              "2018-11-01         193.49    291.766667\n",
              "2018-12-01         152.34    259.546667"
            ]
          },
          "metadata": {
            "tags": []
          },
          "execution_count": 143
        }
      ]
    },
    {
      "cell_type": "code",
      "metadata": {
        "id": "v1W4J2oCU5ZM",
        "colab_type": "code",
        "colab": {
          "base_uri": "https://localhost:8080/",
          "height": 401
        },
        "outputId": "83a029fa-e216-4283-8715-d4de4112f8d3"
      },
      "source": [
        "bill_2018.plot();"
      ],
      "execution_count": 144,
      "outputs": [
        {
          "output_type": "display_data",
          "data": {
            "image/png": "[encoded data removed]",
            "text/plain": [
              "<Figure size 576x432 with 1 Axes>"
            ]
          },
          "metadata": {
            "tags": [],
            "needs_background": "light"
          }
        }
      ]
    },
    {
      "cell_type": "code",
      "metadata": {
        "id": "cDe7kDXeU7sa",
        "colab_type": "code",
        "colab": {}
      },
      "source": [
        "## Weighted MOVING average\n"
      ],
      "execution_count": 145,
      "outputs": []
    },
    {
      "cell_type": "code",
      "metadata": {
        "id": "ATDdLh3WVgye",
        "colab_type": "code",
        "colab": {}
      },
      "source": [
        "def wma(weights):\n",
        "  def calc(x):\n",
        "    return (weights*x).mean()\n",
        "  return calc"
      ],
      "execution_count": 148,
      "outputs": []
    },
    {
      "cell_type": "code",
      "metadata": {
        "id": "qnFskhGmVxKs",
        "colab_type": "code",
        "colab": {
          "base_uri": "https://localhost:8080/",
          "height": 708
        },
        "outputId": "4416aa89-9beb-4480-ed5d-81ca86c4ded5"
      },
      "source": [
        "bill_2018[\"Billed_amount\"].rolling(window=3).apply(wma(np.array([0.5,1,1.5])))"
      ],
      "execution_count": 149,
      "outputs": [
        {
          "output_type": "execute_result",
          "data": {
            "text/plain": [
              "Bill_Date\n",
              "2016-01-01           NaN\n",
              "2016-02-01           NaN\n",
              "2016-03-01    181.250000\n",
              "2016-04-01    135.911667\n",
              "2016-05-01    116.900000\n",
              "2016-06-01     96.898333\n",
              "2016-07-01     89.000000\n",
              "2016-08-01    103.058333\n",
              "2016-09-01    167.055000\n",
              "2016-10-01    171.210000\n",
              "2016-11-01    163.386667\n",
              "2016-12-01    197.788333\n",
              "2017-01-01    238.366667\n",
              "2017-02-01    235.768333\n",
              "2017-03-01    191.150000\n",
              "2017-04-01    145.628333\n",
              "2017-05-01    141.443333\n",
              "2017-06-01    176.898333\n",
              "2017-07-01    236.818333\n",
              "2017-08-01    248.061667\n",
              "2017-09-01    268.338333\n",
              "2017-10-01    220.773333\n",
              "2017-11-01    160.701667\n",
              "2017-12-01    141.661667\n",
              "2018-01-01    202.718333\n",
              "2018-02-01    215.018333\n",
              "2018-03-01    213.125000\n",
              "2018-04-01    176.625000\n",
              "2018-05-01    165.640000\n",
              "2018-06-01    189.380000\n",
              "2018-07-01    242.421667\n",
              "2018-08-01    276.361667\n",
              "2018-09-01    273.026667\n",
              "2018-10-01    297.940000\n",
              "2018-11-01    248.801667\n",
              "2018-12-01    195.198333\n",
              "Name: Billed_amount, dtype: float64"
            ]
          },
          "metadata": {
            "tags": []
          },
          "execution_count": 149
        }
      ]
    },
    {
      "cell_type": "code",
      "metadata": {
        "id": "SbZIa_bjWYRb",
        "colab_type": "code",
        "colab": {}
      },
      "source": [
        "##Exponential Moving Average"
      ],
      "execution_count": 150,
      "outputs": []
    },
    {
      "cell_type": "code",
      "metadata": {
        "id": "bD7L7mzmW1p7",
        "colab_type": "code",
        "colab": {
          "base_uri": "https://localhost:8080/",
          "height": 708
        },
        "outputId": "e8702aa9-f84c-4349-c01f-b88afe03564c"
      },
      "source": [
        "bill_2018[\"Billed_amount\"].ewm(span=3,adjust=False, min_periods =0).mean()"
      ],
      "execution_count": 153,
      "outputs": [
        {
          "output_type": "execute_result",
          "data": {
            "text/plain": [
              "Bill_Date\n",
              "2016-01-01    247.730000\n",
              "2016-02-01    240.920000\n",
              "2016-03-01    182.385000\n",
              "2016-04-01    146.802500\n",
              "2016-05-01    132.586250\n",
              "2016-06-01    105.198125\n",
              "2016-07-01     95.934063\n",
              "2016-08-01    109.167031\n",
              "2016-09-01    166.393516\n",
              "2016-10-01    159.466758\n",
              "2016-11-01    155.003379\n",
              "2016-12-01    199.686689\n",
              "2017-01-01    231.663345\n",
              "2017-02-01    222.991672\n",
              "2017-03-01    187.265836\n",
              "2017-04-01    153.027918\n",
              "2017-05-01    153.103959\n",
              "2017-06-01    182.591980\n",
              "2017-07-01    231.890990\n",
              "2017-08-01    234.930495\n",
              "2017-09-01    259.615247\n",
              "2017-10-01    216.152624\n",
              "2017-11-01    163.831312\n",
              "2017-12-01    157.625656\n",
              "2018-01-01    212.472828\n",
              "2018-02-01    206.911414\n",
              "2018-03-01    204.910707\n",
              "2018-04-01    177.885353\n",
              "2018-05-01    170.477677\n",
              "2018-06-01    195.118838\n",
              "2018-07-01    239.549419\n",
              "2018-08-01    264.849710\n",
              "2018-09-01    261.404855\n",
              "2018-10-01    294.297427\n",
              "2018-11-01    243.893714\n",
              "2018-12-01    198.116857\n",
              "Name: Billed_amount, dtype: float64"
            ]
          },
          "metadata": {
            "tags": []
          },
          "execution_count": 153
        }
      ]
    },
    {
      "cell_type": "code",
      "metadata": {
        "id": "GMmwlU6TXDFz",
        "colab_type": "code",
        "colab": {}
      },
      "source": [
        "bill_2018[\"ewm_window_3\"] = bill_2018[\"Billed_amount\"].ewm(span=3,adjust=False,min_periods=0).mean().shift(1)"
      ],
      "execution_count": 155,
      "outputs": []
    },
    {
      "cell_type": "code",
      "metadata": {
        "id": "qVS6xnShXY_b",
        "colab_type": "code",
        "colab": {
          "base_uri": "https://localhost:8080/",
          "height": 419
        },
        "outputId": "55a62fe4-39c3-4831-a94f-6dfcbb04136e"
      },
      "source": [
        "bill_2018.plot()"
      ],
      "execution_count": 157,
      "outputs": [
        {
          "output_type": "execute_result",
          "data": {
            "text/plain": [
              "<matplotlib.axes._subplots.AxesSubplot at 0x7f6943a3a748>"
            ]
          },
          "metadata": {
            "tags": []
          },
          "execution_count": 157
        },
        {
          "output_type": "display_data",
          "data": {
            "image/png": "[encoded data removed]",
            "text/plain": [
              "<Figure size 576x432 with 1 Axes>"
            ]
          },
          "metadata": {
            "tags": [],
            "needs_background": "light"
          }
        }
      ]
    },
    {
      "cell_type": "code",
      "metadata": {
        "id": "YaPgkrCbXdsl",
        "colab_type": "code",
        "colab": {}
      },
      "source": [
        "### EXPONENTIAL SMOOTHING"
      ],
      "execution_count": 158,
      "outputs": []
    },
    {
      "cell_type": "code",
      "metadata": {
        "id": "cNK2BJZXX63i",
        "colab_type": "code",
        "colab": {
          "base_uri": "https://localhost:8080/",
          "height": 708
        },
        "outputId": "29f93570-151f-4e58-ab95-1e94570fe25b"
      },
      "source": [
        "bill_2018[\"Billed_amount\"].ewm(alpha=0.7,adjust = False, min_periods = 3).mean()"
      ],
      "execution_count": 159,
      "outputs": [
        {
          "output_type": "execute_result",
          "data": {
            "text/plain": [
              "Bill_Date\n",
              "2016-01-01           NaN\n",
              "2016-02-01           NaN\n",
              "2016-03-01    158.153800\n",
              "2016-04-01    125.300140\n",
              "2016-05-01    120.449042\n",
              "2016-06-01     90.601713\n",
              "2016-07-01     87.849514\n",
              "2016-08-01    112.034854\n",
              "2016-09-01    190.144456\n",
              "2016-10-01    163.821337\n",
              "2016-11-01    154.524401\n",
              "2016-12-01    217.416320\n",
              "2017-01-01    249.772896\n",
              "2017-02-01    224.955869\n",
              "2017-03-01    173.564761\n",
              "2017-04-01    135.222428\n",
              "2017-05-01    147.792728\n",
              "2017-06-01    192.793819\n",
              "2017-07-01    254.671146\n",
              "2017-08-01    242.980344\n",
              "2017-09-01    271.904103\n",
              "2017-10-01    202.454231\n",
              "2017-11-01    138.793269\n",
              "2017-12-01    147.631981\n",
              "2018-01-01    231.413594\n",
              "2018-02-01    210.369078\n",
              "2018-03-01    205.147723\n",
              "2018-04-01    167.146317\n",
              "2018-05-01    164.292895\n",
              "2018-06-01    203.119869\n",
              "2018-07-01    259.721961\n",
              "2018-08-01    281.021588\n",
              "2018-09-01    264.878476\n",
              "2018-10-01    308.496543\n",
              "2018-11-01    227.991963\n",
              "2018-12-01    175.035589\n",
              "Name: Billed_amount, dtype: float64"
            ]
          },
          "metadata": {
            "tags": []
          },
          "execution_count": 159
        }
      ]
    },
    {
      "cell_type": "code",
      "metadata": {
        "id": "bh7Dkb36YH6b",
        "colab_type": "code",
        "colab": {}
      },
      "source": [
        "bill_2018[\"esm_win_3_7\"] = bill_2018[\"Billed_amount\"].ewm(alpha=0.7,adjust = False, min_periods = 3).mean().shift(1)"
      ],
      "execution_count": 160,
      "outputs": []
    },
    {
      "cell_type": "code",
      "metadata": {
        "id": "L13MUbKbYYTm",
        "colab_type": "code",
        "colab": {
          "base_uri": "https://localhost:8080/",
          "height": 419
        },
        "outputId": "1ec97af7-e7ff-4392-8dc3-8de8bcbab3cf"
      },
      "source": [
        "bill_2018.plot()"
      ],
      "execution_count": 161,
      "outputs": [
        {
          "output_type": "execute_result",
          "data": {
            "text/plain": [
              "<matplotlib.axes._subplots.AxesSubplot at 0x7f69439ea048>"
            ]
          },
          "metadata": {
            "tags": []
          },
          "execution_count": 161
        },
        {
          "output_type": "display_data",
          "data": {
            "image/png": "[encoded data removed]",
            "text/plain": [
              "<Figure size 576x432 with 1 Axes>"
            ]
          },
          "metadata": {
            "tags": [],
            "needs_background": "light"
          }
        }
      ]
    },
    {
      "cell_type": "code",
      "metadata": {
        "id": "jkb9Tu8nYaZU",
        "colab_type": "code",
        "colab": {
          "base_uri": "https://localhost:8080/",
          "height": 1000
        },
        "outputId": "73ccd012-3057-4e17-d918-42b847c3f67b"
      },
      "source": [
        "bill_2018"
      ],
      "execution_count": 162,
      "outputs": [
        {
          "output_type": "execute_result",
          "data": {
            "text/html": [
              "<div>\n",
              "<style scoped>\n",
              "    .dataframe tbody tr th:only-of-type {\n",
              "        vertical-align: middle;\n",
              "    }\n",
              "\n",
              "    .dataframe tbody tr th {\n",
              "        vertical-align: top;\n",
              "    }\n",
              "\n",
              "    .dataframe thead th {\n",
              "        text-align: right;\n",
              "    }\n",
              "</style>\n",
              "<table border=\"1\" class=\"dataframe\">\n",
              "  <thead>\n",
              "    <tr style=\"text-align: right;\">\n",
              "      <th></th>\n",
              "      <th>Billed_amount</th>\n",
              "      <th>ma_rolling_3</th>\n",
              "      <th>ewm_window_3</th>\n",
              "      <th>esm_win_3_7</th>\n",
              "    </tr>\n",
              "    <tr>\n",
              "      <th>Bill_Date</th>\n",
              "      <th></th>\n",
              "      <th></th>\n",
              "      <th></th>\n",
              "      <th></th>\n",
              "    </tr>\n",
              "  </thead>\n",
              "  <tbody>\n",
              "    <tr>\n",
              "      <th>2016-01-01</th>\n",
              "      <td>247.73</td>\n",
              "      <td>NaN</td>\n",
              "      <td>NaN</td>\n",
              "      <td>NaN</td>\n",
              "    </tr>\n",
              "    <tr>\n",
              "      <th>2016-02-01</th>\n",
              "      <td>234.11</td>\n",
              "      <td>NaN</td>\n",
              "      <td>247.730000</td>\n",
              "      <td>NaN</td>\n",
              "    </tr>\n",
              "    <tr>\n",
              "      <th>2016-03-01</th>\n",
              "      <td>123.85</td>\n",
              "      <td>NaN</td>\n",
              "      <td>240.920000</td>\n",
              "      <td>NaN</td>\n",
              "    </tr>\n",
              "    <tr>\n",
              "      <th>2016-04-01</th>\n",
              "      <td>111.22</td>\n",
              "      <td>201.896667</td>\n",
              "      <td>182.385000</td>\n",
              "      <td>158.153800</td>\n",
              "    </tr>\n",
              "    <tr>\n",
              "      <th>2016-05-01</th>\n",
              "      <td>118.37</td>\n",
              "      <td>156.393333</td>\n",
              "      <td>146.802500</td>\n",
              "      <td>125.300140</td>\n",
              "    </tr>\n",
              "    <tr>\n",
              "      <th>2016-06-01</th>\n",
              "      <td>77.81</td>\n",
              "      <td>117.813333</td>\n",
              "      <td>132.586250</td>\n",
              "      <td>120.449042</td>\n",
              "    </tr>\n",
              "    <tr>\n",
              "      <th>2016-07-01</th>\n",
              "      <td>86.67</td>\n",
              "      <td>102.466667</td>\n",
              "      <td>105.198125</td>\n",
              "      <td>90.601713</td>\n",
              "    </tr>\n",
              "    <tr>\n",
              "      <th>2016-08-01</th>\n",
              "      <td>122.40</td>\n",
              "      <td>94.283333</td>\n",
              "      <td>95.934063</td>\n",
              "      <td>87.849514</td>\n",
              "    </tr>\n",
              "    <tr>\n",
              "      <th>2016-09-01</th>\n",
              "      <td>223.62</td>\n",
              "      <td>95.626667</td>\n",
              "      <td>109.167031</td>\n",
              "      <td>112.034854</td>\n",
              "    </tr>\n",
              "    <tr>\n",
              "      <th>2016-10-01</th>\n",
              "      <td>152.54</td>\n",
              "      <td>144.230000</td>\n",
              "      <td>166.393516</td>\n",
              "      <td>190.144456</td>\n",
              "    </tr>\n",
              "    <tr>\n",
              "      <th>2016-11-01</th>\n",
              "      <td>150.54</td>\n",
              "      <td>166.186667</td>\n",
              "      <td>159.466758</td>\n",
              "      <td>163.821337</td>\n",
              "    </tr>\n",
              "    <tr>\n",
              "      <th>2016-12-01</th>\n",
              "      <td>244.37</td>\n",
              "      <td>175.566667</td>\n",
              "      <td>155.003379</td>\n",
              "      <td>154.524401</td>\n",
              "    </tr>\n",
              "    <tr>\n",
              "      <th>2017-01-01</th>\n",
              "      <td>263.64</td>\n",
              "      <td>182.483333</td>\n",
              "      <td>199.686689</td>\n",
              "      <td>217.416320</td>\n",
              "    </tr>\n",
              "    <tr>\n",
              "      <th>2017-02-01</th>\n",
              "      <td>214.32</td>\n",
              "      <td>219.516667</td>\n",
              "      <td>231.663345</td>\n",
              "      <td>249.772896</td>\n",
              "    </tr>\n",
              "    <tr>\n",
              "      <th>2017-03-01</th>\n",
              "      <td>151.54</td>\n",
              "      <td>240.776667</td>\n",
              "      <td>222.991672</td>\n",
              "      <td>224.955869</td>\n",
              "    </tr>\n",
              "    <tr>\n",
              "      <th>2017-04-01</th>\n",
              "      <td>118.79</td>\n",
              "      <td>209.833333</td>\n",
              "      <td>187.265836</td>\n",
              "      <td>173.564761</td>\n",
              "    </tr>\n",
              "    <tr>\n",
              "      <th>2017-05-01</th>\n",
              "      <td>153.18</td>\n",
              "      <td>161.550000</td>\n",
              "      <td>153.027918</td>\n",
              "      <td>135.222428</td>\n",
              "    </tr>\n",
              "    <tr>\n",
              "      <th>2017-06-01</th>\n",
              "      <td>212.08</td>\n",
              "      <td>141.170000</td>\n",
              "      <td>153.103959</td>\n",
              "      <td>147.792728</td>\n",
              "    </tr>\n",
              "    <tr>\n",
              "      <th>2017-07-01</th>\n",
              "      <td>281.19</td>\n",
              "      <td>161.350000</td>\n",
              "      <td>182.591980</td>\n",
              "      <td>192.793819</td>\n",
              "    </tr>\n",
              "    <tr>\n",
              "      <th>2017-08-01</th>\n",
              "      <td>237.97</td>\n",
              "      <td>215.483333</td>\n",
              "      <td>231.890990</td>\n",
              "      <td>254.671146</td>\n",
              "    </tr>\n",
              "    <tr>\n",
              "      <th>2017-09-01</th>\n",
              "      <td>284.30</td>\n",
              "      <td>243.746667</td>\n",
              "      <td>234.930495</td>\n",
              "      <td>242.980344</td>\n",
              "    </tr>\n",
              "    <tr>\n",
              "      <th>2017-10-01</th>\n",
              "      <td>172.69</td>\n",
              "      <td>267.820000</td>\n",
              "      <td>259.615247</td>\n",
              "      <td>271.904103</td>\n",
              "    </tr>\n",
              "    <tr>\n",
              "      <th>2017-11-01</th>\n",
              "      <td>111.51</td>\n",
              "      <td>231.653333</td>\n",
              "      <td>216.152624</td>\n",
              "      <td>202.454231</td>\n",
              "    </tr>\n",
              "    <tr>\n",
              "      <th>2017-12-01</th>\n",
              "      <td>151.42</td>\n",
              "      <td>189.500000</td>\n",
              "      <td>163.831312</td>\n",
              "      <td>138.793269</td>\n",
              "    </tr>\n",
              "    <tr>\n",
              "      <th>2018-01-01</th>\n",
              "      <td>267.32</td>\n",
              "      <td>145.206667</td>\n",
              "      <td>157.625656</td>\n",
              "      <td>147.631981</td>\n",
              "    </tr>\n",
              "    <tr>\n",
              "      <th>2018-02-01</th>\n",
              "      <td>201.35</td>\n",
              "      <td>176.750000</td>\n",
              "      <td>212.472828</td>\n",
              "      <td>231.413594</td>\n",
              "    </tr>\n",
              "    <tr>\n",
              "      <th>2018-03-01</th>\n",
              "      <td>202.91</td>\n",
              "      <td>206.696667</td>\n",
              "      <td>206.911414</td>\n",
              "      <td>210.369078</td>\n",
              "    </tr>\n",
              "    <tr>\n",
              "      <th>2018-04-01</th>\n",
              "      <td>150.86</td>\n",
              "      <td>223.860000</td>\n",
              "      <td>204.910707</td>\n",
              "      <td>205.147723</td>\n",
              "    </tr>\n",
              "    <tr>\n",
              "      <th>2018-05-01</th>\n",
              "      <td>163.07</td>\n",
              "      <td>185.040000</td>\n",
              "      <td>177.885353</td>\n",
              "      <td>167.146317</td>\n",
              "    </tr>\n",
              "    <tr>\n",
              "      <th>2018-06-01</th>\n",
              "      <td>219.76</td>\n",
              "      <td>172.280000</td>\n",
              "      <td>170.477677</td>\n",
              "      <td>164.292895</td>\n",
              "    </tr>\n",
              "    <tr>\n",
              "      <th>2018-07-01</th>\n",
              "      <td>283.98</td>\n",
              "      <td>177.896667</td>\n",
              "      <td>195.118838</td>\n",
              "      <td>203.119869</td>\n",
              "    </tr>\n",
              "    <tr>\n",
              "      <th>2018-08-01</th>\n",
              "      <td>290.15</td>\n",
              "      <td>222.270000</td>\n",
              "      <td>239.549419</td>\n",
              "      <td>259.721961</td>\n",
              "    </tr>\n",
              "    <tr>\n",
              "      <th>2018-09-01</th>\n",
              "      <td>257.96</td>\n",
              "      <td>264.630000</td>\n",
              "      <td>264.849710</td>\n",
              "      <td>281.021588</td>\n",
              "    </tr>\n",
              "    <tr>\n",
              "      <th>2018-10-01</th>\n",
              "      <td>327.19</td>\n",
              "      <td>277.363333</td>\n",
              "      <td>261.404855</td>\n",
              "      <td>264.878476</td>\n",
              "    </tr>\n",
              "    <tr>\n",
              "      <th>2018-11-01</th>\n",
              "      <td>193.49</td>\n",
              "      <td>291.766667</td>\n",
              "      <td>294.297427</td>\n",
              "      <td>308.496543</td>\n",
              "    </tr>\n",
              "    <tr>\n",
              "      <th>2018-12-01</th>\n",
              "      <td>152.34</td>\n",
              "      <td>259.546667</td>\n",
              "      <td>243.893714</td>\n",
              "      <td>227.991963</td>\n",
              "    </tr>\n",
              "  </tbody>\n",
              "</table>\n",
              "</div>"
            ],
            "text/plain": [
              "            Billed_amount  ma_rolling_3  ewm_window_3  esm_win_3_7\n",
              "Bill_Date                                                         \n",
              "2016-01-01         247.73           NaN           NaN          NaN\n",
              "2016-02-01         234.11           NaN    247.730000          NaN\n",
              "2016-03-01         123.85           NaN    240.920000          NaN\n",
              "2016-04-01         111.22    201.896667    182.385000   158.153800\n",
              "2016-05-01         118.37    156.393333    146.802500   125.300140\n",
              "2016-06-01          77.81    117.813333    132.586250   120.449042\n",
              "2016-07-01          86.67    102.466667    105.198125    90.601713\n",
              "2016-08-01         122.40     94.283333     95.934063    87.849514\n",
              "2016-09-01         223.62     95.626667    109.167031   112.034854\n",
              "2016-10-01         152.54    144.230000    166.393516   190.144456\n",
              "2016-11-01         150.54    166.186667    159.466758   163.821337\n",
              "2016-12-01         244.37    175.566667    155.003379   154.524401\n",
              "2017-01-01         263.64    182.483333    199.686689   217.416320\n",
              "2017-02-01         214.32    219.516667    231.663345   249.772896\n",
              "2017-03-01         151.54    240.776667    222.991672   224.955869\n",
              "2017-04-01         118.79    209.833333    187.265836   173.564761\n",
              "2017-05-01         153.18    161.550000    153.027918   135.222428\n",
              "2017-06-01         212.08    141.170000    153.103959   147.792728\n",
              "2017-07-01         281.19    161.350000    182.591980   192.793819\n",
              "2017-08-01         237.97    215.483333    231.890990   254.671146\n",
              "2017-09-01         284.30    243.746667    234.930495   242.980344\n",
              "2017-10-01         172.69    267.820000    259.615247   271.904103\n",
              "2017-11-01         111.51    231.653333    216.152624   202.454231\n",
              "2017-12-01         151.42    189.500000    163.831312   138.793269\n",
              "2018-01-01         267.32    145.206667    157.625656   147.631981\n",
              "2018-02-01         201.35    176.750000    212.472828   231.413594\n",
              "2018-03-01         202.91    206.696667    206.911414   210.369078\n",
              "2018-04-01         150.86    223.860000    204.910707   205.147723\n",
              "2018-05-01         163.07    185.040000    177.885353   167.146317\n",
              "2018-06-01         219.76    172.280000    170.477677   164.292895\n",
              "2018-07-01         283.98    177.896667    195.118838   203.119869\n",
              "2018-08-01         290.15    222.270000    239.549419   259.721961\n",
              "2018-09-01         257.96    264.630000    264.849710   281.021588\n",
              "2018-10-01         327.19    277.363333    261.404855   264.878476\n",
              "2018-11-01         193.49    291.766667    294.297427   308.496543\n",
              "2018-12-01         152.34    259.546667    243.893714   227.991963"
            ]
          },
          "metadata": {
            "tags": []
          },
          "execution_count": 162
        }
      ]
    },
    {
      "cell_type": "code",
      "metadata": {
        "id": "i1AJB_s6YeuI",
        "colab_type": "code",
        "colab": {}
      },
      "source": [
        ""
      ],
      "execution_count": null,
      "outputs": []
    }
  ]
}